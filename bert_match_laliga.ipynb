{
  "nbformat": 4,
  "nbformat_minor": 0,
  "metadata": {
    "colab": {
      "name": "bmm_match_laliga.ipynb",
      "version": "0.3.2",
      "provenance": [],
      "collapsed_sections": [],
      "toc_visible": true
    },
    "kernelspec": {
      "name": "python3",
      "display_name": "Python 3"
    },
    "accelerator": "GPU"
  },
  "cells": [
    {
      "metadata": {
        "id": "1T7ojSerzuoi",
        "colab_type": "code",
        "outputId": "2d1faf38-3d5c-4b9d-def9-46dd4a257a96",
        "colab": {
          "base_uri": "https://localhost:8080/",
          "height": 736
        }
      },
      "cell_type": "code",
      "source": [
        "######################################################################\n",
        "# Setup python environment and change the current working directory\n",
        "######################################################################\n",
        "!pip3 install torch torchvision\n",
        "!pip3 install Pillow==4.0.0\n",
        "!pip3 install tensorboardX\n",
        "%mkdir -p /content/final_project\n",
        "%cd /content/final_project\n",
        "%mkdir ./output\n",
        "%mkdir ./data"
      ],
      "execution_count": 6,
      "outputs": [
        {
          "output_type": "stream",
          "text": [
            "Requirement already satisfied: torch in /usr/local/lib/python3.6/dist-packages (1.0.1.post2)\n",
            "Requirement already satisfied: torchvision in /usr/local/lib/python3.6/dist-packages (0.2.2.post3)\n",
            "Requirement already satisfied: numpy in /usr/local/lib/python3.6/dist-packages (from torchvision) (1.16.2)\n",
            "Requirement already satisfied: six in /usr/local/lib/python3.6/dist-packages (from torchvision) (1.11.0)\n",
            "Collecting pillow>=4.1.1 (from torchvision)\n",
            "  Using cached https://files.pythonhosted.org/packages/d2/c2/f84b1e57416755e967236468dcfb0fad7fd911f707185efc4ba8834a1a94/Pillow-6.0.0-cp36-cp36m-manylinux1_x86_64.whl\n",
            "\u001b[31malbumentations 0.1.12 has requirement imgaug<0.2.7,>=0.2.5, but you'll have imgaug 0.2.8 which is incompatible.\u001b[0m\n",
            "Installing collected packages: pillow\n",
            "  Found existing installation: Pillow 4.0.0\n",
            "    Uninstalling Pillow-4.0.0:\n",
            "      Successfully uninstalled Pillow-4.0.0\n",
            "Successfully installed pillow-6.0.0\n"
          ],
          "name": "stdout"
        },
        {
          "output_type": "display_data",
          "data": {
            "application/vnd.colab-display-data+json": {
              "pip_warning": {
                "packages": [
                  "PIL"
                ]
              }
            }
          },
          "metadata": {
            "tags": []
          }
        },
        {
          "output_type": "stream",
          "text": [
            "Collecting Pillow==4.0.0\n",
            "  Using cached https://files.pythonhosted.org/packages/37/e8/b3fbf87b0188d22246678f8cd61e23e31caa1769ebc06f1664e2e5fe8a17/Pillow-4.0.0-cp36-cp36m-manylinux1_x86_64.whl\n",
            "Requirement already satisfied: olefile in /usr/local/lib/python3.6/dist-packages (from Pillow==4.0.0) (0.46)\n",
            "\u001b[31mtorchvision 0.2.2.post3 has requirement pillow>=4.1.1, but you'll have pillow 4.0.0 which is incompatible.\u001b[0m\n",
            "\u001b[31mscikit-image 0.14.2 has requirement pillow>=4.3.0, but you'll have pillow 4.0.0 which is incompatible.\u001b[0m\n",
            "\u001b[31malbumentations 0.1.12 has requirement imgaug<0.2.7,>=0.2.5, but you'll have imgaug 0.2.8 which is incompatible.\u001b[0m\n",
            "Installing collected packages: Pillow\n",
            "  Found existing installation: Pillow 6.0.0\n",
            "    Uninstalling Pillow-6.0.0:\n",
            "      Successfully uninstalled Pillow-6.0.0\n",
            "Successfully installed Pillow-4.0.0\n"
          ],
          "name": "stdout"
        },
        {
          "output_type": "display_data",
          "data": {
            "application/vnd.colab-display-data+json": {
              "pip_warning": {
                "packages": [
                  "PIL"
                ]
              }
            }
          },
          "metadata": {
            "tags": []
          }
        },
        {
          "output_type": "stream",
          "text": [
            "Requirement already satisfied: tensorboardX in /usr/local/lib/python3.6/dist-packages (1.6)\n",
            "Requirement already satisfied: numpy in /usr/local/lib/python3.6/dist-packages (from tensorboardX) (1.16.2)\n",
            "Requirement already satisfied: six in /usr/local/lib/python3.6/dist-packages (from tensorboardX) (1.11.0)\n",
            "Requirement already satisfied: protobuf>=3.2.0 in /usr/local/lib/python3.6/dist-packages (from tensorboardX) (3.7.1)\n",
            "Requirement already satisfied: setuptools in /usr/local/lib/python3.6/dist-packages (from protobuf>=3.2.0->tensorboardX) (40.9.0)\n",
            "/content/final_project\n",
            "mkdir: cannot create directory ‘./output’: File exists\n",
            "mkdir: cannot create directory ‘./data’: File exists\n"
          ],
          "name": "stdout"
        }
      ]
    },
    {
      "metadata": {
        "id": "dAu4eNhG08lf",
        "colab_type": "text"
      },
      "cell_type": "markdown",
      "source": [
        "# Import Libraries and Setting Constants"
      ]
    },
    {
      "metadata": {
        "id": "LCugAtvm0rOi",
        "colab_type": "code",
        "colab": {}
      },
      "cell_type": "code",
      "source": [
        "from torch.utils.data import Dataset\n",
        "from tensorboardX import SummaryWriter\n",
        "import torch.nn as nn\n",
        "import numpy as np\n",
        "import pandas as pd\n",
        "from tqdm import tqdm_notebook\n",
        "import torch\n",
        "import numpy as numpy\n",
        "import torch.nn.functional as F\n",
        "import math\n",
        "import copy\n",
        "import time\n",
        "from torch.autograd import Variable\n",
        "from torch.optim import Adam\n",
        "from torch.utils.data import DataLoader\n",
        "from matplotlib import pyplot as plt\n",
        "\n",
        "from IPython.display import HTML, display\n",
        "import shutil"
      ],
      "execution_count": 0,
      "outputs": []
    },
    {
      "metadata": {
        "id": "xO3e1YhZQM4a",
        "colab_type": "code",
        "colab": {}
      },
      "cell_type": "code",
      "source": [
        "!mv /content/test_Laliga_Complete_Dataset_All.csv /content/final_project/data/"
      ],
      "execution_count": 0,
      "outputs": []
    },
    {
      "metadata": {
        "id": "9d_pkUHSIOca",
        "colab_type": "code",
        "colab": {}
      },
      "cell_type": "code",
      "source": [
        "!mv /content/train_all.csv /content/final_project/data/"
      ],
      "execution_count": 0,
      "outputs": []
    },
    {
      "metadata": {
        "id": "mrLUq-3U1C8P",
        "colab_type": "text"
      },
      "cell_type": "markdown",
      "source": [
        "# MatchDataset"
      ]
    },
    {
      "metadata": {
        "id": "OLOe_cJR1Gsh",
        "colab_type": "code",
        "colab": {}
      },
      "cell_type": "code",
      "source": [
        "class MatchDataset(Dataset):\n",
        "    def __init__(self, csv_path):\n",
        "        df = pd.read_csv(csv_path, index_col=0)\n",
        "\n",
        "        self.target_df = df.iloc[:, 25] # home_win = 0, away_win = 1, draw = 2\n",
        "        self.baseline_df = df.iloc[:, 26:620]\n",
        "    def __len__(self):\n",
        "        return len(self.baseline_df.index) - 1\n",
        "\n",
        "    def __getitem__(self, index):\n",
        "        baseline_input = torch.tensor(self.baseline_df.iloc[index, :], dtype=torch.float)\n",
        "        target = torch.tensor(self.target_df.iloc[index], dtype=torch.long)\n",
        "\n",
        "        output = {'baseline_input': baseline_input, 'target':target}\n",
        "\n",
        "        return output"
      ],
      "execution_count": 0,
      "outputs": []
    },
    {
      "metadata": {
        "id": "LF69h8DIJfcu",
        "colab_type": "code",
        "colab": {}
      },
      "cell_type": "code",
      "source": [
        "train_dataset = MatchDataset('data/train_Laliga_Complete_Dataset_All.csv')\n",
        "#train_dataset = MatchDataset('data/train_all.csv')\n",
        "train_dataset.target_df"
      ],
      "execution_count": 0,
      "outputs": []
    },
    {
      "metadata": {
        "id": "5lfGCuPdLqcX",
        "colab_type": "code",
        "colab": {}
      },
      "cell_type": "code",
      "source": [
        "#validation_dataset = MatchDataset('data/test_all.csv')\n",
        "validation_dataset = MatchDataset('data/test_Laliga_Complete_Dataset_All.csv')\n",
        "validation_dataset.baseline_df"
      ],
      "execution_count": 0,
      "outputs": []
    },
    {
      "metadata": {
        "id": "16DNlZm9lxDv",
        "colab_type": "text"
      },
      "cell_type": "markdown",
      "source": [
        "# BMM"
      ]
    },
    {
      "metadata": {
        "id": "zOloZFVYl59F",
        "colab_type": "code",
        "colab": {}
      },
      "cell_type": "code",
      "source": [
        "class Fully_Connected(nn.Module):\n",
        "    def __init__(self, output_size=3):\n",
        "        super(Fully_Connected, self).__init__()\n",
        "        self.fc = nn.Linear(729, output_size)\n",
        "\n",
        "    def forward(self, x):\n",
        "        batch_size = x.shape[0]\n",
        "        x1 = x[:, 0:297]\n",
        "        x2 = x[:, 297:594]\n",
        "        home_team = torch.ones(batch_size, 11, 27)\n",
        "        away_team = torch.ones(batch_size, 11, 27)\n",
        "        for i in range(batch_size):\n",
        "          for j in range(11):\n",
        "            for k in range(27):\n",
        "              home_team[i,j,k] = x1[i, j * k + k]\n",
        "              away_team[i,j,k] = x2[i, j * k + k]\n",
        "        # size of new_x is batch_size * 27 * 27\n",
        "        new_x = torch.bmm(home_team.transpose(1,2), away_team)\n",
        "        x_vector = new_x.view(batch_size, 729)\n",
        "        x_vector = F.relu(self.fc(x_vector))\n",
        "        y = F.softmax(x_vector, dim=1)\n",
        "        return y"
      ],
      "execution_count": 0,
      "outputs": []
    },
    {
      "metadata": {
        "id": "xOj-3CBhE7ul",
        "colab_type": "text"
      },
      "cell_type": "markdown",
      "source": [
        "# FULLY CONNECTED LAYER TRAINER"
      ]
    },
    {
      "metadata": {
        "id": "iS6SUEpNgZU9",
        "colab_type": "code",
        "colab": {}
      },
      "cell_type": "code",
      "source": [
        "class FullyConnectedTrainer:\n",
        "    def __init__(self, FullyConnected, train_dataloader, val_dataloader=None, lr=1e-3, \n",
        "                 with_cuda=True, cuda_device=None):\n",
        "        cuda_condition = torch.cuda.is_available() and with_cuda\n",
        "        self.device = torch.device(\"cpu\" if cuda_condition else \"cpu\")\n",
        "#         self.device = torch.device(\"cuda:0\" if cuda_condition else \"cpu\")\n",
        "        self.model = Fully_Connected().to(self.device)\n",
        "        self.p_loss = nn.CrossEntropyLoss()\n",
        "        self.FullyConnected = FullyConnected\n",
        "        \n",
        "        if with_cuda and torch.cuda.device_count() > 1:\n",
        "            print(\"Using %d GPUS for Fully Connected\" % torch.cuda.device_count())\n",
        "            self.model = nn.DataParallel(self.model, device_ids=cuda_devices)\n",
        "\n",
        "        self.train_data = train_dataloader\n",
        "        self.val_data = val_dataloader\n",
        "\n",
        "        self.optimizer = torch.optim.SGD((self.model).parameters(), lr=lr, momentum=0.95)\n",
        "\n",
        "        self.losses = {'train_loss':[], 'validation_loss':[]}\n",
        "        self.accuracy = {'train_accuracy':[], 'validation_accuracy':[]}\n",
        "            \n",
        "\n",
        "    def train(self, epoch):\n",
        "        self.iteration(epoch, self.train_data)\n",
        "\n",
        "    def test(self, epoch):\n",
        "        self.iteration(epoch, self.val_data, False)\n",
        "\n",
        "    def iteration(self, epoch, data_loader, train=True):\n",
        "        \"\"\" Iteration process for one epoch. \n",
        "        \"\"\"\n",
        "        process = \"train\" if train else \"validation\"\n",
        "\n",
        "        data_iterator = tqdm_notebook(enumerate(data_loader),\n",
        "                              desc=\"EP %d %s\" % (epoch, process),\n",
        "                              total=len(data_loader),\n",
        "                              bar_format=\"{l_bar}{r_bar}\")\n",
        "\n",
        "        average_loss = 0.0\n",
        "        correct = 0\n",
        "        total = 0\n",
        "        num_0 = 0\n",
        "        num_1 = 0\n",
        "        num_2 = 0\n",
        "        \n",
        "        for i, data in data_iterator:\n",
        "            data = {key: value.to(self.device) for key, value in data.items()}\n",
        "            output = self.model.forward(data['baseline_input'])\n",
        "            hit = output.argmax(dim=-1).eq(data[\"target\"]).sum().item()\n",
        "            miss = data[\"target\"].nelement() - hit\n",
        "            \n",
        "            loss = self.p_loss(output, data['target'])\n",
        "\n",
        "            if train:\n",
        "                    self.optimizer.zero_grad()\n",
        "                    loss.backward()\n",
        "                    self.optimizer.step()\n",
        "\n",
        "            average_loss += loss.item()\n",
        "            correct += hit\n",
        "            total += data[\"target\"].nelement()\n",
        "            \n",
        "            # count \n",
        "            num_0 += output.argmax(dim=-1).eq(0).sum().item()\n",
        "            num_1 += output.argmax(dim=-1).eq(1).sum().item()\n",
        "            num_2 += output.argmax(dim=-1).eq(2).sum().item()\n",
        "\n",
        "            log_info = {\n",
        "                    \"epoch\": epoch, \n",
        "                    \"iteration\": i,\n",
        "                    \"total_loss\": average_loss / (i + 1),\n",
        "                    \"average_accuracy\": correct / total * 100,\n",
        "            }\n",
        "        \n",
        "        print('0:', num_0, ' | ', '1:', num_1, ' | ', '2:', num_2)\n",
        "        print('average_accuracy: ', log_info['average_accuracy'])\n",
        "        print('total_loss: ', log_info['total_loss'])\n",
        "\n",
        "        self.losses['{}_loss'.format(process)].append(log_info['total_loss'])\n",
        "        self.accuracy['{}_accuracy'.format(process)].append(log_info['average_accuracy'])\n",
        "\n",
        "    def save(self, epoch, filepath = \"output/trained.model\"):\n",
        "            if epoch % 10 == 0:\n",
        "                output_path = filepath + \".ep%d\" % epoch\n",
        "                torch.save(self.FullyConnected.cpu(), output_path)\n",
        "                self.FullyConnected.to(self.device)\n",
        "                print(\"EP:%d Model saved to:\" % epoch, output_path)\n",
        "                return output_path"
      ],
      "execution_count": 0,
      "outputs": []
    },
    {
      "metadata": {
        "id": "IeE5BRd7If_9",
        "colab_type": "text"
      },
      "cell_type": "markdown",
      "source": [
        "## Training Loop"
      ]
    },
    {
      "metadata": {
        "id": "EZBzfwXwIiDx",
        "colab_type": "code",
        "colab": {}
      },
      "cell_type": "code",
      "source": [
        "class AttrDict(dict):\n",
        "    def __init__(self, *args, **kwargs):\n",
        "        super(AttrDict, self).__init__(*args, **kwargs)\n",
        "        self.__dict__ = self\n",
        "\n",
        "\n",
        "def print_opts(opts):\n",
        "    \"\"\"Prints the values of arguments.\n",
        "    \"\"\"\n",
        "    print('=' * 80)\n",
        "    print('Opts'.center(80))\n",
        "    print('-' * 80)\n",
        "    for key in opts.__dict__:\n",
        "        print('{:>30}: {:<30}'.format(key, str(opts.__dict__[key])).center(80))\n",
        "    print('=' * 80)\n",
        "\n",
        "\n",
        "def train(args):\n",
        "    # Load Data\n",
        "    print(\"=== Loading datasets ===\")\n",
        "    train_dataset = MatchDataset(args.train_path)\n",
        "    validation_dataset = MatchDataset(args.val_path)\n",
        "    train_dataloader = DataLoader(train_dataset,\n",
        "                                  batch_size=args.batch_size, num_workers=10)\n",
        "\n",
        "    val_dataloader = DataLoader(validation_dataset,\n",
        "                                     batch_size=args.batch_size, num_workers=10)\n",
        "    \n",
        "    \n",
        "\n",
        "\n",
        "    # Build model\n",
        "    print(\"=== Building Model ===\")\n",
        "    baseline = Fully_Connected()\n",
        "\n",
        "    trainer = FullyConnectedTrainer(FullyConnected=baseline, \n",
        "                          train_dataloader=train_dataloader,\n",
        "                          val_dataloader=val_dataloader, \n",
        "                          lr=args.lr)\n",
        "\n",
        "    print(\"=== Start Training ===\")\n",
        "    for epoch in range(args.epochs):\n",
        "        print (\"epoch number: \" + str(epoch))\n",
        "        trainer.train(epoch)\n",
        "        trainer.save(epoch, args.output_path)\n",
        "\n",
        "        if val_dataloader is not None:\n",
        "            trainer.test(epoch)\n",
        "    \n",
        "    loss_df = pd.DataFrame.from_dict(trainer.losses)\n",
        "    accuracy_df = pd.DataFrame.from_dict(trainer.accuracy)\n",
        "    loss_df.plot(xticks=range(0, args.epochs, 5))\n",
        "    accuracy_df.plot(xticks=range(0, args.epochs,5))\n",
        "    \n",
        "    return baseline, trainer\n",
        "    "
      ],
      "execution_count": 0,
      "outputs": []
    },
    {
      "metadata": {
        "id": "JN7zhn9yNxQu",
        "colab_type": "text"
      },
      "cell_type": "markdown",
      "source": [
        "# Train"
      ]
    },
    {
      "metadata": {
        "id": "MdkWvJ7WMjgD",
        "colab_type": "code",
        "outputId": "dd5214fc-4a1f-49f8-93e4-dd71eb3a2434",
        "colab": {
          "base_uri": "https://localhost:8080/",
          "height": 6083
        }
      },
      "cell_type": "code",
      "source": [
        "args = AttrDict()\n",
        "default_config = {\n",
        "    \"train_path\": \"data/train_Laliga_Complete_Dataset_All.csv\",\n",
        "    \"val_path\": \"data/test_Laliga_Complete_Dataset_All.csv\",\n",
        "    \"batch_size\": 100,\n",
        "    \"epochs\": 100,\n",
        "    \"lr\": 0.001,\n",
        "    \"output_path\": 'output/exp1.model',\n",
        "}\n",
        "\n",
        "args.update(default_config)\n",
        "print_opts(args)\n",
        "baseline, trainer = train(args)"
      ],
      "execution_count": 19,
      "outputs": [
        {
          "output_type": "stream",
          "text": [
            "================================================================================\n",
            "                                      Opts                                      \n",
            "--------------------------------------------------------------------------------\n",
            "                       train_path: data/train_Laliga_Complete_Dataset_All.csv   \n",
            "                         val_path: data/test_Laliga_Complete_Dataset_All.csv    \n",
            "                             batch_size: 100                                    \n",
            "                                 epochs: 100                                    \n",
            "                                     lr: 0.001                                  \n",
            "                            output_path: output/exp1.model                      \n",
            "================================================================================\n",
            "=== Loading datasets ===\n",
            "=== Building Model ===\n",
            "=== Start Training ===\n",
            "epoch number: 0\n"
          ],
          "name": "stdout"
        },
        {
          "output_type": "display_data",
          "data": {
            "application/vnd.jupyter.widget-view+json": {
              "model_id": "0b80dc3d76f34069a24ff981074cbc8a",
              "version_minor": 0,
              "version_major": 2
            },
            "text/plain": [
              "HBox(children=(IntProgress(value=0, description='EP 0 train', max=18, style=ProgressStyle(description_width='i…"
            ]
          },
          "metadata": {
            "tags": []
          }
        },
        {
          "output_type": "stream",
          "text": [
            "\n",
            "0: 0  |  1: 0  |  2: 1798\n",
            "average_accuracy:  23.136818687430477\n",
            "total_loss:  1.09861159324646\n",
            "EP:0 Model saved to: output/exp1.model.ep0\n"
          ],
          "name": "stdout"
        },
        {
          "output_type": "stream",
          "text": [
            "/usr/local/lib/python3.6/dist-packages/torch/serialization.py:251: UserWarning: Couldn't retrieve source code for container of type Fully_Connected. It won't be checked for correctness upon loading.\n",
            "  \"type \" + obj.__name__ + \". It won't be checked \"\n"
          ],
          "name": "stderr"
        },
        {
          "output_type": "display_data",
          "data": {
            "application/vnd.jupyter.widget-view+json": {
              "model_id": "278ad23dd41a44d293b81afd1df676a3",
              "version_minor": 0,
              "version_major": 2
            },
            "text/plain": [
              "HBox(children=(IntProgress(value=0, description='EP 0 validation', max=5, style=ProgressStyle(description_widt…"
            ]
          },
          "metadata": {
            "tags": []
          }
        },
        {
          "output_type": "stream",
          "text": [
            "\n",
            "0: 0  |  1: 0  |  2: 447\n",
            "average_accuracy:  24.832214765100673\n",
            "total_loss:  1.0986117839813232\n",
            "epoch number: 1\n"
          ],
          "name": "stdout"
        },
        {
          "output_type": "display_data",
          "data": {
            "application/vnd.jupyter.widget-view+json": {
              "model_id": "a08cc638775846569e795c126f385adc",
              "version_minor": 0,
              "version_major": 2
            },
            "text/plain": [
              "HBox(children=(IntProgress(value=0, description='EP 1 train', max=18, style=ProgressStyle(description_width='i…"
            ]
          },
          "metadata": {
            "tags": []
          }
        },
        {
          "output_type": "stream",
          "text": [
            "\n",
            "0: 0  |  1: 0  |  2: 1798\n",
            "average_accuracy:  23.136818687430477\n",
            "total_loss:  1.09861159324646\n"
          ],
          "name": "stdout"
        },
        {
          "output_type": "display_data",
          "data": {
            "application/vnd.jupyter.widget-view+json": {
              "model_id": "11a3bc30f2d844a791571303b935d634",
              "version_minor": 0,
              "version_major": 2
            },
            "text/plain": [
              "HBox(children=(IntProgress(value=0, description='EP 1 validation', max=5, style=ProgressStyle(description_widt…"
            ]
          },
          "metadata": {
            "tags": []
          }
        },
        {
          "output_type": "stream",
          "text": [
            "\n",
            "0: 0  |  1: 0  |  2: 447\n",
            "average_accuracy:  24.832214765100673\n",
            "total_loss:  1.0986117839813232\n",
            "epoch number: 2\n"
          ],
          "name": "stdout"
        },
        {
          "output_type": "display_data",
          "data": {
            "application/vnd.jupyter.widget-view+json": {
              "model_id": "867762e1c86c4537976e76c4da692a55",
              "version_minor": 0,
              "version_major": 2
            },
            "text/plain": [
              "HBox(children=(IntProgress(value=0, description='EP 2 train', max=18, style=ProgressStyle(description_width='i…"
            ]
          },
          "metadata": {
            "tags": []
          }
        },
        {
          "output_type": "stream",
          "text": [
            "\n",
            "0: 0  |  1: 0  |  2: 1798\n",
            "average_accuracy:  23.136818687430477\n",
            "total_loss:  1.09861159324646\n"
          ],
          "name": "stdout"
        },
        {
          "output_type": "display_data",
          "data": {
            "application/vnd.jupyter.widget-view+json": {
              "model_id": "fb038248d5114d1d906b1d1d5e6acfa8",
              "version_minor": 0,
              "version_major": 2
            },
            "text/plain": [
              "HBox(children=(IntProgress(value=0, description='EP 2 validation', max=5, style=ProgressStyle(description_widt…"
            ]
          },
          "metadata": {
            "tags": []
          }
        },
        {
          "output_type": "stream",
          "text": [
            "\n",
            "0: 0  |  1: 0  |  2: 447\n",
            "average_accuracy:  24.832214765100673\n",
            "total_loss:  1.0986117839813232\n",
            "epoch number: 3\n"
          ],
          "name": "stdout"
        },
        {
          "output_type": "display_data",
          "data": {
            "application/vnd.jupyter.widget-view+json": {
              "model_id": "aebb2fad55004242b7fa63f015749c67",
              "version_minor": 0,
              "version_major": 2
            },
            "text/plain": [
              "HBox(children=(IntProgress(value=0, description='EP 3 train', max=18, style=ProgressStyle(description_width='i…"
            ]
          },
          "metadata": {
            "tags": []
          }
        },
        {
          "output_type": "stream",
          "text": [
            "\n",
            "0: 0  |  1: 0  |  2: 1798\n",
            "average_accuracy:  23.136818687430477\n",
            "total_loss:  1.09861159324646\n"
          ],
          "name": "stdout"
        },
        {
          "output_type": "display_data",
          "data": {
            "application/vnd.jupyter.widget-view+json": {
              "model_id": "03d70fc51c11400c91387b1b071cdb96",
              "version_minor": 0,
              "version_major": 2
            },
            "text/plain": [
              "HBox(children=(IntProgress(value=0, description='EP 3 validation', max=5, style=ProgressStyle(description_widt…"
            ]
          },
          "metadata": {
            "tags": []
          }
        },
        {
          "output_type": "stream",
          "text": [
            "\n",
            "0: 0  |  1: 0  |  2: 447\n",
            "average_accuracy:  24.832214765100673\n",
            "total_loss:  1.0986117839813232\n",
            "epoch number: 4\n"
          ],
          "name": "stdout"
        },
        {
          "output_type": "display_data",
          "data": {
            "application/vnd.jupyter.widget-view+json": {
              "model_id": "3e5cea2a496843638b199bb130eb2090",
              "version_minor": 0,
              "version_major": 2
            },
            "text/plain": [
              "HBox(children=(IntProgress(value=0, description='EP 4 train', max=18, style=ProgressStyle(description_width='i…"
            ]
          },
          "metadata": {
            "tags": []
          }
        },
        {
          "output_type": "stream",
          "text": [
            "\n",
            "0: 0  |  1: 0  |  2: 1798\n",
            "average_accuracy:  23.136818687430477\n",
            "total_loss:  1.09861159324646\n"
          ],
          "name": "stdout"
        },
        {
          "output_type": "display_data",
          "data": {
            "application/vnd.jupyter.widget-view+json": {
              "model_id": "57c5f31c6b8a4fc6b47bdff82c6c39b8",
              "version_minor": 0,
              "version_major": 2
            },
            "text/plain": [
              "HBox(children=(IntProgress(value=0, description='EP 4 validation', max=5, style=ProgressStyle(description_widt…"
            ]
          },
          "metadata": {
            "tags": []
          }
        },
        {
          "output_type": "stream",
          "text": [
            "\n",
            "0: 0  |  1: 0  |  2: 447\n",
            "average_accuracy:  24.832214765100673\n",
            "total_loss:  1.0986117839813232\n",
            "epoch number: 5\n"
          ],
          "name": "stdout"
        },
        {
          "output_type": "display_data",
          "data": {
            "application/vnd.jupyter.widget-view+json": {
              "model_id": "15d5057d2317412c9ca82f9fa3755aa4",
              "version_minor": 0,
              "version_major": 2
            },
            "text/plain": [
              "HBox(children=(IntProgress(value=0, description='EP 5 train', max=18, style=ProgressStyle(description_width='i…"
            ]
          },
          "metadata": {
            "tags": []
          }
        },
        {
          "output_type": "stream",
          "text": [
            "\n",
            "0: 0  |  1: 0  |  2: 1798\n",
            "average_accuracy:  23.136818687430477\n",
            "total_loss:  1.09861159324646\n"
          ],
          "name": "stdout"
        },
        {
          "output_type": "display_data",
          "data": {
            "application/vnd.jupyter.widget-view+json": {
              "model_id": "884095d3260d4fd3b6686f3c8b6448a2",
              "version_minor": 0,
              "version_major": 2
            },
            "text/plain": [
              "HBox(children=(IntProgress(value=0, description='EP 5 validation', max=5, style=ProgressStyle(description_widt…"
            ]
          },
          "metadata": {
            "tags": []
          }
        },
        {
          "output_type": "stream",
          "text": [
            "\n",
            "0: 0  |  1: 0  |  2: 447\n",
            "average_accuracy:  24.832214765100673\n",
            "total_loss:  1.0986117839813232\n",
            "epoch number: 6\n"
          ],
          "name": "stdout"
        },
        {
          "output_type": "display_data",
          "data": {
            "application/vnd.jupyter.widget-view+json": {
              "model_id": "51304e7f0ba44d7cbc5a18e1aae9463c",
              "version_minor": 0,
              "version_major": 2
            },
            "text/plain": [
              "HBox(children=(IntProgress(value=0, description='EP 6 train', max=18, style=ProgressStyle(description_width='i…"
            ]
          },
          "metadata": {
            "tags": []
          }
        },
        {
          "output_type": "stream",
          "text": [
            "\n",
            "0: 0  |  1: 0  |  2: 1798\n",
            "average_accuracy:  23.136818687430477\n",
            "total_loss:  1.09861159324646\n"
          ],
          "name": "stdout"
        },
        {
          "output_type": "display_data",
          "data": {
            "application/vnd.jupyter.widget-view+json": {
              "model_id": "10c0bde7b54143f4810552d275286360",
              "version_minor": 0,
              "version_major": 2
            },
            "text/plain": [
              "HBox(children=(IntProgress(value=0, description='EP 6 validation', max=5, style=ProgressStyle(description_widt…"
            ]
          },
          "metadata": {
            "tags": []
          }
        },
        {
          "output_type": "stream",
          "text": [
            "\n",
            "0: 0  |  1: 0  |  2: 447\n",
            "average_accuracy:  24.832214765100673\n",
            "total_loss:  1.0986117839813232\n",
            "epoch number: 7\n"
          ],
          "name": "stdout"
        },
        {
          "output_type": "display_data",
          "data": {
            "application/vnd.jupyter.widget-view+json": {
              "model_id": "548093c8099c426396994fab1833f05b",
              "version_minor": 0,
              "version_major": 2
            },
            "text/plain": [
              "HBox(children=(IntProgress(value=0, description='EP 7 train', max=18, style=ProgressStyle(description_width='i…"
            ]
          },
          "metadata": {
            "tags": []
          }
        },
        {
          "output_type": "stream",
          "text": [
            "\n",
            "0: 0  |  1: 0  |  2: 1798\n",
            "average_accuracy:  23.136818687430477\n",
            "total_loss:  1.09861159324646\n"
          ],
          "name": "stdout"
        },
        {
          "output_type": "display_data",
          "data": {
            "application/vnd.jupyter.widget-view+json": {
              "model_id": "ce326e26e7cf4a71820912e4f7909db4",
              "version_minor": 0,
              "version_major": 2
            },
            "text/plain": [
              "HBox(children=(IntProgress(value=0, description='EP 7 validation', max=5, style=ProgressStyle(description_widt…"
            ]
          },
          "metadata": {
            "tags": []
          }
        },
        {
          "output_type": "stream",
          "text": [
            "\n",
            "0: 0  |  1: 0  |  2: 447\n",
            "average_accuracy:  24.832214765100673\n",
            "total_loss:  1.0986117839813232\n",
            "epoch number: 8\n"
          ],
          "name": "stdout"
        },
        {
          "output_type": "display_data",
          "data": {
            "application/vnd.jupyter.widget-view+json": {
              "model_id": "882fa41310414273a25fbe29dccc2582",
              "version_minor": 0,
              "version_major": 2
            },
            "text/plain": [
              "HBox(children=(IntProgress(value=0, description='EP 8 train', max=18, style=ProgressStyle(description_width='i…"
            ]
          },
          "metadata": {
            "tags": []
          }
        },
        {
          "output_type": "stream",
          "text": [
            "\n",
            "0: 0  |  1: 0  |  2: 1798\n",
            "average_accuracy:  23.136818687430477\n",
            "total_loss:  1.09861159324646\n"
          ],
          "name": "stdout"
        },
        {
          "output_type": "display_data",
          "data": {
            "application/vnd.jupyter.widget-view+json": {
              "model_id": "c78e44a499e84380a065128550636472",
              "version_minor": 0,
              "version_major": 2
            },
            "text/plain": [
              "HBox(children=(IntProgress(value=0, description='EP 8 validation', max=5, style=ProgressStyle(description_widt…"
            ]
          },
          "metadata": {
            "tags": []
          }
        },
        {
          "output_type": "stream",
          "text": [
            "\n",
            "0: 0  |  1: 0  |  2: 447\n",
            "average_accuracy:  24.832214765100673\n",
            "total_loss:  1.0986117839813232\n",
            "epoch number: 9\n"
          ],
          "name": "stdout"
        },
        {
          "output_type": "display_data",
          "data": {
            "application/vnd.jupyter.widget-view+json": {
              "model_id": "98beca72937e4cf08d2180a92da7eb0d",
              "version_minor": 0,
              "version_major": 2
            },
            "text/plain": [
              "HBox(children=(IntProgress(value=0, description='EP 9 train', max=18, style=ProgressStyle(description_width='i…"
            ]
          },
          "metadata": {
            "tags": []
          }
        },
        {
          "output_type": "stream",
          "text": [
            "\n",
            "0: 0  |  1: 0  |  2: 1798\n",
            "average_accuracy:  23.136818687430477\n",
            "total_loss:  1.09861159324646\n"
          ],
          "name": "stdout"
        },
        {
          "output_type": "display_data",
          "data": {
            "application/vnd.jupyter.widget-view+json": {
              "model_id": "160b4f52de98408599d92dd890448c10",
              "version_minor": 0,
              "version_major": 2
            },
            "text/plain": [
              "HBox(children=(IntProgress(value=0, description='EP 9 validation', max=5, style=ProgressStyle(description_widt…"
            ]
          },
          "metadata": {
            "tags": []
          }
        },
        {
          "output_type": "stream",
          "text": [
            "\n",
            "0: 0  |  1: 0  |  2: 447\n",
            "average_accuracy:  24.832214765100673\n",
            "total_loss:  1.0986117839813232\n",
            "epoch number: 10\n"
          ],
          "name": "stdout"
        },
        {
          "output_type": "display_data",
          "data": {
            "application/vnd.jupyter.widget-view+json": {
              "model_id": "2ff2f5e422ac48cc882e10cfd839f3bb",
              "version_minor": 0,
              "version_major": 2
            },
            "text/plain": [
              "HBox(children=(IntProgress(value=0, description='EP 10 train', max=18, style=ProgressStyle(description_width='…"
            ]
          },
          "metadata": {
            "tags": []
          }
        },
        {
          "output_type": "stream",
          "text": [
            "\n",
            "0: 0  |  1: 0  |  2: 1798\n",
            "average_accuracy:  23.136818687430477\n",
            "total_loss:  1.09861159324646\n",
            "EP:10 Model saved to: output/exp1.model.ep10\n"
          ],
          "name": "stdout"
        },
        {
          "output_type": "display_data",
          "data": {
            "application/vnd.jupyter.widget-view+json": {
              "model_id": "eb8fbc75cd3f41ebb49d24681d8e84fd",
              "version_minor": 0,
              "version_major": 2
            },
            "text/plain": [
              "HBox(children=(IntProgress(value=0, description='EP 10 validation', max=5, style=ProgressStyle(description_wid…"
            ]
          },
          "metadata": {
            "tags": []
          }
        },
        {
          "output_type": "stream",
          "text": [
            "\n",
            "0: 0  |  1: 0  |  2: 447\n",
            "average_accuracy:  24.832214765100673\n",
            "total_loss:  1.0986117839813232\n",
            "epoch number: 11\n"
          ],
          "name": "stdout"
        },
        {
          "output_type": "display_data",
          "data": {
            "application/vnd.jupyter.widget-view+json": {
              "model_id": "1fad7e0ffdcf48668400503c242f0a2d",
              "version_minor": 0,
              "version_major": 2
            },
            "text/plain": [
              "HBox(children=(IntProgress(value=0, description='EP 11 train', max=18, style=ProgressStyle(description_width='…"
            ]
          },
          "metadata": {
            "tags": []
          }
        },
        {
          "output_type": "stream",
          "text": [
            "\n",
            "0: 0  |  1: 0  |  2: 1798\n",
            "average_accuracy:  23.136818687430477\n",
            "total_loss:  1.09861159324646\n"
          ],
          "name": "stdout"
        },
        {
          "output_type": "display_data",
          "data": {
            "application/vnd.jupyter.widget-view+json": {
              "model_id": "61358eb8079c4018adf43261a45ac88b",
              "version_minor": 0,
              "version_major": 2
            },
            "text/plain": [
              "HBox(children=(IntProgress(value=0, description='EP 11 validation', max=5, style=ProgressStyle(description_wid…"
            ]
          },
          "metadata": {
            "tags": []
          }
        },
        {
          "output_type": "stream",
          "text": [
            "\n",
            "0: 0  |  1: 0  |  2: 447\n",
            "average_accuracy:  24.832214765100673\n",
            "total_loss:  1.0986117839813232\n",
            "epoch number: 12\n"
          ],
          "name": "stdout"
        },
        {
          "output_type": "display_data",
          "data": {
            "application/vnd.jupyter.widget-view+json": {
              "model_id": "f66555528e644851830aa68cfb9209ed",
              "version_minor": 0,
              "version_major": 2
            },
            "text/plain": [
              "HBox(children=(IntProgress(value=0, description='EP 12 train', max=18, style=ProgressStyle(description_width='…"
            ]
          },
          "metadata": {
            "tags": []
          }
        },
        {
          "output_type": "stream",
          "text": [
            "\n",
            "0: 0  |  1: 0  |  2: 1798\n",
            "average_accuracy:  23.136818687430477\n",
            "total_loss:  1.09861159324646\n"
          ],
          "name": "stdout"
        },
        {
          "output_type": "display_data",
          "data": {
            "application/vnd.jupyter.widget-view+json": {
              "model_id": "0663e9bd7b5f443a902d3ef512f08461",
              "version_minor": 0,
              "version_major": 2
            },
            "text/plain": [
              "HBox(children=(IntProgress(value=0, description='EP 12 validation', max=5, style=ProgressStyle(description_wid…"
            ]
          },
          "metadata": {
            "tags": []
          }
        },
        {
          "output_type": "stream",
          "text": [
            "\n",
            "0: 0  |  1: 0  |  2: 447\n",
            "average_accuracy:  24.832214765100673\n",
            "total_loss:  1.0986117839813232\n",
            "epoch number: 13\n"
          ],
          "name": "stdout"
        },
        {
          "output_type": "display_data",
          "data": {
            "application/vnd.jupyter.widget-view+json": {
              "model_id": "cde799c829de47eab66ea88a1e3aefb1",
              "version_minor": 0,
              "version_major": 2
            },
            "text/plain": [
              "HBox(children=(IntProgress(value=0, description='EP 13 train', max=18, style=ProgressStyle(description_width='…"
            ]
          },
          "metadata": {
            "tags": []
          }
        },
        {
          "output_type": "stream",
          "text": [
            "\n",
            "0: 0  |  1: 0  |  2: 1798\n",
            "average_accuracy:  23.136818687430477\n",
            "total_loss:  1.09861159324646\n"
          ],
          "name": "stdout"
        },
        {
          "output_type": "display_data",
          "data": {
            "application/vnd.jupyter.widget-view+json": {
              "model_id": "5b1304042ede4a95a109c0031148ef56",
              "version_minor": 0,
              "version_major": 2
            },
            "text/plain": [
              "HBox(children=(IntProgress(value=0, description='EP 13 validation', max=5, style=ProgressStyle(description_wid…"
            ]
          },
          "metadata": {
            "tags": []
          }
        },
        {
          "output_type": "stream",
          "text": [
            "\n",
            "0: 0  |  1: 0  |  2: 447\n",
            "average_accuracy:  24.832214765100673\n",
            "total_loss:  1.0986117839813232\n",
            "epoch number: 14\n"
          ],
          "name": "stdout"
        },
        {
          "output_type": "display_data",
          "data": {
            "application/vnd.jupyter.widget-view+json": {
              "model_id": "dbf9f585c2ce43798c6071229ac0a509",
              "version_minor": 0,
              "version_major": 2
            },
            "text/plain": [
              "HBox(children=(IntProgress(value=0, description='EP 14 train', max=18, style=ProgressStyle(description_width='…"
            ]
          },
          "metadata": {
            "tags": []
          }
        },
        {
          "output_type": "stream",
          "text": [
            "\n",
            "0: 0  |  1: 0  |  2: 1798\n",
            "average_accuracy:  23.136818687430477\n",
            "total_loss:  1.09861159324646\n"
          ],
          "name": "stdout"
        },
        {
          "output_type": "display_data",
          "data": {
            "application/vnd.jupyter.widget-view+json": {
              "model_id": "625d7197fdd548718b0981e710773899",
              "version_minor": 0,
              "version_major": 2
            },
            "text/plain": [
              "HBox(children=(IntProgress(value=0, description='EP 14 validation', max=5, style=ProgressStyle(description_wid…"
            ]
          },
          "metadata": {
            "tags": []
          }
        },
        {
          "output_type": "stream",
          "text": [
            "\n",
            "0: 0  |  1: 0  |  2: 447\n",
            "average_accuracy:  24.832214765100673\n",
            "total_loss:  1.0986117839813232\n",
            "epoch number: 15\n"
          ],
          "name": "stdout"
        },
        {
          "output_type": "display_data",
          "data": {
            "application/vnd.jupyter.widget-view+json": {
              "model_id": "0424ab85c5fc4a229309edc9e91ea138",
              "version_minor": 0,
              "version_major": 2
            },
            "text/plain": [
              "HBox(children=(IntProgress(value=0, description='EP 15 train', max=18, style=ProgressStyle(description_width='…"
            ]
          },
          "metadata": {
            "tags": []
          }
        },
        {
          "output_type": "stream",
          "text": [
            "\n",
            "0: 0  |  1: 0  |  2: 1798\n",
            "average_accuracy:  23.136818687430477\n",
            "total_loss:  1.09861159324646\n"
          ],
          "name": "stdout"
        },
        {
          "output_type": "display_data",
          "data": {
            "application/vnd.jupyter.widget-view+json": {
              "model_id": "ec904738550d40d1a6db59d8484d3e17",
              "version_minor": 0,
              "version_major": 2
            },
            "text/plain": [
              "HBox(children=(IntProgress(value=0, description='EP 15 validation', max=5, style=ProgressStyle(description_wid…"
            ]
          },
          "metadata": {
            "tags": []
          }
        },
        {
          "output_type": "stream",
          "text": [
            "\n",
            "0: 0  |  1: 0  |  2: 447\n",
            "average_accuracy:  24.832214765100673\n",
            "total_loss:  1.0986117839813232\n",
            "epoch number: 16\n"
          ],
          "name": "stdout"
        },
        {
          "output_type": "display_data",
          "data": {
            "application/vnd.jupyter.widget-view+json": {
              "model_id": "08e656bd894444679c68f9b456822103",
              "version_minor": 0,
              "version_major": 2
            },
            "text/plain": [
              "HBox(children=(IntProgress(value=0, description='EP 16 train', max=18, style=ProgressStyle(description_width='…"
            ]
          },
          "metadata": {
            "tags": []
          }
        },
        {
          "output_type": "stream",
          "text": [
            "\n",
            "0: 0  |  1: 0  |  2: 1798\n",
            "average_accuracy:  23.136818687430477\n",
            "total_loss:  1.09861159324646\n"
          ],
          "name": "stdout"
        },
        {
          "output_type": "display_data",
          "data": {
            "application/vnd.jupyter.widget-view+json": {
              "model_id": "f0449da98cfd41bb806284905779e4f9",
              "version_minor": 0,
              "version_major": 2
            },
            "text/plain": [
              "HBox(children=(IntProgress(value=0, description='EP 16 validation', max=5, style=ProgressStyle(description_wid…"
            ]
          },
          "metadata": {
            "tags": []
          }
        },
        {
          "output_type": "stream",
          "text": [
            "\n",
            "0: 0  |  1: 0  |  2: 447\n",
            "average_accuracy:  24.832214765100673\n",
            "total_loss:  1.0986117839813232\n",
            "epoch number: 17\n"
          ],
          "name": "stdout"
        },
        {
          "output_type": "display_data",
          "data": {
            "application/vnd.jupyter.widget-view+json": {
              "model_id": "853247df1ae44d41868007b789dc0bae",
              "version_minor": 0,
              "version_major": 2
            },
            "text/plain": [
              "HBox(children=(IntProgress(value=0, description='EP 17 train', max=18, style=ProgressStyle(description_width='…"
            ]
          },
          "metadata": {
            "tags": []
          }
        },
        {
          "output_type": "stream",
          "text": [
            "\n",
            "0: 0  |  1: 0  |  2: 1798\n",
            "average_accuracy:  23.136818687430477\n",
            "total_loss:  1.09861159324646\n"
          ],
          "name": "stdout"
        },
        {
          "output_type": "display_data",
          "data": {
            "application/vnd.jupyter.widget-view+json": {
              "model_id": "4f00832efcaf42fabe44e8933bc7140f",
              "version_minor": 0,
              "version_major": 2
            },
            "text/plain": [
              "HBox(children=(IntProgress(value=0, description='EP 17 validation', max=5, style=ProgressStyle(description_wid…"
            ]
          },
          "metadata": {
            "tags": []
          }
        },
        {
          "output_type": "stream",
          "text": [
            "\n",
            "0: 0  |  1: 0  |  2: 447\n",
            "average_accuracy:  24.832214765100673\n",
            "total_loss:  1.0986117839813232\n",
            "epoch number: 18\n"
          ],
          "name": "stdout"
        },
        {
          "output_type": "display_data",
          "data": {
            "application/vnd.jupyter.widget-view+json": {
              "model_id": "af65b42e44064c429c247b4267cfde9f",
              "version_minor": 0,
              "version_major": 2
            },
            "text/plain": [
              "HBox(children=(IntProgress(value=0, description='EP 18 train', max=18, style=ProgressStyle(description_width='…"
            ]
          },
          "metadata": {
            "tags": []
          }
        },
        {
          "output_type": "stream",
          "text": [
            "\n",
            "0: 0  |  1: 0  |  2: 1798\n",
            "average_accuracy:  23.136818687430477\n",
            "total_loss:  1.09861159324646\n"
          ],
          "name": "stdout"
        },
        {
          "output_type": "display_data",
          "data": {
            "application/vnd.jupyter.widget-view+json": {
              "model_id": "83bfa6ef595b43e0bdb9e113d8016e3a",
              "version_minor": 0,
              "version_major": 2
            },
            "text/plain": [
              "HBox(children=(IntProgress(value=0, description='EP 18 validation', max=5, style=ProgressStyle(description_wid…"
            ]
          },
          "metadata": {
            "tags": []
          }
        },
        {
          "output_type": "stream",
          "text": [
            "\n",
            "0: 0  |  1: 0  |  2: 447\n",
            "average_accuracy:  24.832214765100673\n",
            "total_loss:  1.0986117839813232\n",
            "epoch number: 19\n"
          ],
          "name": "stdout"
        },
        {
          "output_type": "display_data",
          "data": {
            "application/vnd.jupyter.widget-view+json": {
              "model_id": "0ca68cd773bb48ac8c873126d7ed4a8b",
              "version_minor": 0,
              "version_major": 2
            },
            "text/plain": [
              "HBox(children=(IntProgress(value=0, description='EP 19 train', max=18, style=ProgressStyle(description_width='…"
            ]
          },
          "metadata": {
            "tags": []
          }
        },
        {
          "output_type": "stream",
          "text": [
            "\n",
            "0: 0  |  1: 0  |  2: 1798\n",
            "average_accuracy:  23.136818687430477\n",
            "total_loss:  1.09861159324646\n"
          ],
          "name": "stdout"
        },
        {
          "output_type": "display_data",
          "data": {
            "application/vnd.jupyter.widget-view+json": {
              "model_id": "0f568d1d2d464563ba9f0bb89422d692",
              "version_minor": 0,
              "version_major": 2
            },
            "text/plain": [
              "HBox(children=(IntProgress(value=0, description='EP 19 validation', max=5, style=ProgressStyle(description_wid…"
            ]
          },
          "metadata": {
            "tags": []
          }
        },
        {
          "output_type": "stream",
          "text": [
            "\n",
            "0: 0  |  1: 0  |  2: 447\n",
            "average_accuracy:  24.832214765100673\n",
            "total_loss:  1.0986117839813232\n",
            "epoch number: 20\n"
          ],
          "name": "stdout"
        },
        {
          "output_type": "display_data",
          "data": {
            "application/vnd.jupyter.widget-view+json": {
              "model_id": "91c231ae2dc14a93a333b389fe68a384",
              "version_minor": 0,
              "version_major": 2
            },
            "text/plain": [
              "HBox(children=(IntProgress(value=0, description='EP 20 train', max=18, style=ProgressStyle(description_width='…"
            ]
          },
          "metadata": {
            "tags": []
          }
        },
        {
          "output_type": "stream",
          "text": [
            "\n",
            "0: 0  |  1: 0  |  2: 1798\n",
            "average_accuracy:  23.136818687430477\n",
            "total_loss:  1.09861159324646\n",
            "EP:20 Model saved to: output/exp1.model.ep20\n"
          ],
          "name": "stdout"
        },
        {
          "output_type": "display_data",
          "data": {
            "application/vnd.jupyter.widget-view+json": {
              "model_id": "26877d82e2244a14bea6f9bbcc347322",
              "version_minor": 0,
              "version_major": 2
            },
            "text/plain": [
              "HBox(children=(IntProgress(value=0, description='EP 20 validation', max=5, style=ProgressStyle(description_wid…"
            ]
          },
          "metadata": {
            "tags": []
          }
        },
        {
          "output_type": "stream",
          "text": [
            "\n",
            "0: 0  |  1: 0  |  2: 447\n",
            "average_accuracy:  24.832214765100673\n",
            "total_loss:  1.0986117839813232\n",
            "epoch number: 21\n"
          ],
          "name": "stdout"
        },
        {
          "output_type": "display_data",
          "data": {
            "application/vnd.jupyter.widget-view+json": {
              "model_id": "b8d50d8a4e9c445080af9e0842ca74cd",
              "version_minor": 0,
              "version_major": 2
            },
            "text/plain": [
              "HBox(children=(IntProgress(value=0, description='EP 21 train', max=18, style=ProgressStyle(description_width='…"
            ]
          },
          "metadata": {
            "tags": []
          }
        },
        {
          "output_type": "stream",
          "text": [
            "\n",
            "0: 0  |  1: 0  |  2: 1798\n",
            "average_accuracy:  23.136818687430477\n",
            "total_loss:  1.09861159324646\n"
          ],
          "name": "stdout"
        },
        {
          "output_type": "display_data",
          "data": {
            "application/vnd.jupyter.widget-view+json": {
              "model_id": "130cd760d8004304910656c5bb660b0f",
              "version_minor": 0,
              "version_major": 2
            },
            "text/plain": [
              "HBox(children=(IntProgress(value=0, description='EP 21 validation', max=5, style=ProgressStyle(description_wid…"
            ]
          },
          "metadata": {
            "tags": []
          }
        },
        {
          "output_type": "stream",
          "text": [
            "\n",
            "0: 0  |  1: 0  |  2: 447\n",
            "average_accuracy:  24.832214765100673\n",
            "total_loss:  1.0986117839813232\n",
            "epoch number: 22\n"
          ],
          "name": "stdout"
        },
        {
          "output_type": "display_data",
          "data": {
            "application/vnd.jupyter.widget-view+json": {
              "model_id": "ada77b5f860742b486e67b4d4873888d",
              "version_minor": 0,
              "version_major": 2
            },
            "text/plain": [
              "HBox(children=(IntProgress(value=0, description='EP 22 train', max=18, style=ProgressStyle(description_width='…"
            ]
          },
          "metadata": {
            "tags": []
          }
        },
        {
          "output_type": "stream",
          "text": [
            "\n",
            "0: 0  |  1: 0  |  2: 1798\n",
            "average_accuracy:  23.136818687430477\n",
            "total_loss:  1.09861159324646\n"
          ],
          "name": "stdout"
        },
        {
          "output_type": "display_data",
          "data": {
            "application/vnd.jupyter.widget-view+json": {
              "model_id": "9499f244903d458ebbf0c90b61d3f491",
              "version_minor": 0,
              "version_major": 2
            },
            "text/plain": [
              "HBox(children=(IntProgress(value=0, description='EP 22 validation', max=5, style=ProgressStyle(description_wid…"
            ]
          },
          "metadata": {
            "tags": []
          }
        },
        {
          "output_type": "stream",
          "text": [
            "\n",
            "0: 0  |  1: 0  |  2: 447\n",
            "average_accuracy:  24.832214765100673\n",
            "total_loss:  1.0986117839813232\n",
            "epoch number: 23\n"
          ],
          "name": "stdout"
        },
        {
          "output_type": "display_data",
          "data": {
            "application/vnd.jupyter.widget-view+json": {
              "model_id": "56283c17153249a9a820516971f92cc8",
              "version_minor": 0,
              "version_major": 2
            },
            "text/plain": [
              "HBox(children=(IntProgress(value=0, description='EP 23 train', max=18, style=ProgressStyle(description_width='…"
            ]
          },
          "metadata": {
            "tags": []
          }
        },
        {
          "output_type": "stream",
          "text": [
            "\n",
            "0: 0  |  1: 0  |  2: 1798\n",
            "average_accuracy:  23.136818687430477\n",
            "total_loss:  1.09861159324646\n"
          ],
          "name": "stdout"
        },
        {
          "output_type": "display_data",
          "data": {
            "application/vnd.jupyter.widget-view+json": {
              "model_id": "be614340dd00401597ae5e1bc7fabacd",
              "version_minor": 0,
              "version_major": 2
            },
            "text/plain": [
              "HBox(children=(IntProgress(value=0, description='EP 23 validation', max=5, style=ProgressStyle(description_wid…"
            ]
          },
          "metadata": {
            "tags": []
          }
        },
        {
          "output_type": "stream",
          "text": [
            "\n",
            "0: 0  |  1: 0  |  2: 447\n",
            "average_accuracy:  24.832214765100673\n",
            "total_loss:  1.0986117839813232\n",
            "epoch number: 24\n"
          ],
          "name": "stdout"
        },
        {
          "output_type": "display_data",
          "data": {
            "application/vnd.jupyter.widget-view+json": {
              "model_id": "0050d2158bfc4c248cae11f979f2d219",
              "version_minor": 0,
              "version_major": 2
            },
            "text/plain": [
              "HBox(children=(IntProgress(value=0, description='EP 24 train', max=18, style=ProgressStyle(description_width='…"
            ]
          },
          "metadata": {
            "tags": []
          }
        },
        {
          "output_type": "stream",
          "text": [
            "\n",
            "0: 0  |  1: 0  |  2: 1798\n",
            "average_accuracy:  23.136818687430477\n",
            "total_loss:  1.09861159324646\n"
          ],
          "name": "stdout"
        },
        {
          "output_type": "display_data",
          "data": {
            "application/vnd.jupyter.widget-view+json": {
              "model_id": "db99d9a024c3438580c6b636e0b06081",
              "version_minor": 0,
              "version_major": 2
            },
            "text/plain": [
              "HBox(children=(IntProgress(value=0, description='EP 24 validation', max=5, style=ProgressStyle(description_wid…"
            ]
          },
          "metadata": {
            "tags": []
          }
        },
        {
          "output_type": "stream",
          "text": [
            "\n",
            "0: 0  |  1: 0  |  2: 447\n",
            "average_accuracy:  24.832214765100673\n",
            "total_loss:  1.0986117839813232\n",
            "epoch number: 25\n"
          ],
          "name": "stdout"
        },
        {
          "output_type": "display_data",
          "data": {
            "application/vnd.jupyter.widget-view+json": {
              "model_id": "75bcfc7a6b4046a4835eff7685123b2a",
              "version_minor": 0,
              "version_major": 2
            },
            "text/plain": [
              "HBox(children=(IntProgress(value=0, description='EP 25 train', max=18, style=ProgressStyle(description_width='…"
            ]
          },
          "metadata": {
            "tags": []
          }
        },
        {
          "output_type": "stream",
          "text": [
            "\n",
            "0: 0  |  1: 0  |  2: 1798\n",
            "average_accuracy:  23.136818687430477\n",
            "total_loss:  1.09861159324646\n"
          ],
          "name": "stdout"
        },
        {
          "output_type": "display_data",
          "data": {
            "application/vnd.jupyter.widget-view+json": {
              "model_id": "54fe3a88a6f24033872e189801b307cd",
              "version_minor": 0,
              "version_major": 2
            },
            "text/plain": [
              "HBox(children=(IntProgress(value=0, description='EP 25 validation', max=5, style=ProgressStyle(description_wid…"
            ]
          },
          "metadata": {
            "tags": []
          }
        },
        {
          "output_type": "stream",
          "text": [
            "\n",
            "0: 0  |  1: 0  |  2: 447\n",
            "average_accuracy:  24.832214765100673\n",
            "total_loss:  1.0986117839813232\n",
            "epoch number: 26\n"
          ],
          "name": "stdout"
        },
        {
          "output_type": "display_data",
          "data": {
            "application/vnd.jupyter.widget-view+json": {
              "model_id": "2b99e14f98444611b3dc627d443c8955",
              "version_minor": 0,
              "version_major": 2
            },
            "text/plain": [
              "HBox(children=(IntProgress(value=0, description='EP 26 train', max=18, style=ProgressStyle(description_width='…"
            ]
          },
          "metadata": {
            "tags": []
          }
        },
        {
          "output_type": "stream",
          "text": [
            "\n",
            "0: 0  |  1: 0  |  2: 1798\n",
            "average_accuracy:  23.136818687430477\n",
            "total_loss:  1.09861159324646\n"
          ],
          "name": "stdout"
        },
        {
          "output_type": "display_data",
          "data": {
            "application/vnd.jupyter.widget-view+json": {
              "model_id": "6fec1b8115e24318ab62bb7a617abba2",
              "version_minor": 0,
              "version_major": 2
            },
            "text/plain": [
              "HBox(children=(IntProgress(value=0, description='EP 26 validation', max=5, style=ProgressStyle(description_wid…"
            ]
          },
          "metadata": {
            "tags": []
          }
        },
        {
          "output_type": "stream",
          "text": [
            "\n",
            "0: 0  |  1: 0  |  2: 447\n",
            "average_accuracy:  24.832214765100673\n",
            "total_loss:  1.0986117839813232\n",
            "epoch number: 27\n"
          ],
          "name": "stdout"
        },
        {
          "output_type": "display_data",
          "data": {
            "application/vnd.jupyter.widget-view+json": {
              "model_id": "56eee87002bd47628861f56430ef61af",
              "version_minor": 0,
              "version_major": 2
            },
            "text/plain": [
              "HBox(children=(IntProgress(value=0, description='EP 27 train', max=18, style=ProgressStyle(description_width='…"
            ]
          },
          "metadata": {
            "tags": []
          }
        },
        {
          "output_type": "stream",
          "text": [
            "\n",
            "0: 0  |  1: 0  |  2: 1798\n",
            "average_accuracy:  23.136818687430477\n",
            "total_loss:  1.09861159324646\n"
          ],
          "name": "stdout"
        },
        {
          "output_type": "display_data",
          "data": {
            "application/vnd.jupyter.widget-view+json": {
              "model_id": "ee8a9c9eb3cd4eb197ba35996bc27ee0",
              "version_minor": 0,
              "version_major": 2
            },
            "text/plain": [
              "HBox(children=(IntProgress(value=0, description='EP 27 validation', max=5, style=ProgressStyle(description_wid…"
            ]
          },
          "metadata": {
            "tags": []
          }
        },
        {
          "output_type": "stream",
          "text": [
            "\n",
            "0: 0  |  1: 0  |  2: 447\n",
            "average_accuracy:  24.832214765100673\n",
            "total_loss:  1.0986117839813232\n",
            "epoch number: 28\n"
          ],
          "name": "stdout"
        },
        {
          "output_type": "display_data",
          "data": {
            "application/vnd.jupyter.widget-view+json": {
              "model_id": "9cc80a5591af438f919760bc250f87bd",
              "version_minor": 0,
              "version_major": 2
            },
            "text/plain": [
              "HBox(children=(IntProgress(value=0, description='EP 28 train', max=18, style=ProgressStyle(description_width='…"
            ]
          },
          "metadata": {
            "tags": []
          }
        },
        {
          "output_type": "stream",
          "text": [
            "\n",
            "0: 0  |  1: 0  |  2: 1798\n",
            "average_accuracy:  23.136818687430477\n",
            "total_loss:  1.09861159324646\n"
          ],
          "name": "stdout"
        },
        {
          "output_type": "display_data",
          "data": {
            "application/vnd.jupyter.widget-view+json": {
              "model_id": "c91969fd937e4d319f18891d4f9ab8e0",
              "version_minor": 0,
              "version_major": 2
            },
            "text/plain": [
              "HBox(children=(IntProgress(value=0, description='EP 28 validation', max=5, style=ProgressStyle(description_wid…"
            ]
          },
          "metadata": {
            "tags": []
          }
        },
        {
          "output_type": "stream",
          "text": [
            "\n",
            "0: 0  |  1: 0  |  2: 447\n",
            "average_accuracy:  24.832214765100673\n",
            "total_loss:  1.0986117839813232\n",
            "epoch number: 29\n"
          ],
          "name": "stdout"
        },
        {
          "output_type": "display_data",
          "data": {
            "application/vnd.jupyter.widget-view+json": {
              "model_id": "ec8880b130f44dcdaee5d9402c813240",
              "version_minor": 0,
              "version_major": 2
            },
            "text/plain": [
              "HBox(children=(IntProgress(value=0, description='EP 29 train', max=18, style=ProgressStyle(description_width='…"
            ]
          },
          "metadata": {
            "tags": []
          }
        },
        {
          "output_type": "stream",
          "text": [
            "\n",
            "0: 0  |  1: 0  |  2: 1798\n",
            "average_accuracy:  23.136818687430477\n",
            "total_loss:  1.09861159324646\n"
          ],
          "name": "stdout"
        },
        {
          "output_type": "display_data",
          "data": {
            "application/vnd.jupyter.widget-view+json": {
              "model_id": "5907df8d08d54c17b26c2d444cc4323d",
              "version_minor": 0,
              "version_major": 2
            },
            "text/plain": [
              "HBox(children=(IntProgress(value=0, description='EP 29 validation', max=5, style=ProgressStyle(description_wid…"
            ]
          },
          "metadata": {
            "tags": []
          }
        },
        {
          "output_type": "stream",
          "text": [
            "\n",
            "0: 0  |  1: 0  |  2: 447\n",
            "average_accuracy:  24.832214765100673\n",
            "total_loss:  1.0986117839813232\n",
            "epoch number: 30\n"
          ],
          "name": "stdout"
        },
        {
          "output_type": "display_data",
          "data": {
            "application/vnd.jupyter.widget-view+json": {
              "model_id": "f6283db20173424195670558f2c4c848",
              "version_minor": 0,
              "version_major": 2
            },
            "text/plain": [
              "HBox(children=(IntProgress(value=0, description='EP 30 train', max=18, style=ProgressStyle(description_width='…"
            ]
          },
          "metadata": {
            "tags": []
          }
        },
        {
          "output_type": "stream",
          "text": [
            "\n",
            "0: 0  |  1: 0  |  2: 1798\n",
            "average_accuracy:  23.136818687430477\n",
            "total_loss:  1.09861159324646\n",
            "EP:30 Model saved to: output/exp1.model.ep30\n"
          ],
          "name": "stdout"
        },
        {
          "output_type": "display_data",
          "data": {
            "application/vnd.jupyter.widget-view+json": {
              "model_id": "38c29870117b4f9e8a8fd2caf339e722",
              "version_minor": 0,
              "version_major": 2
            },
            "text/plain": [
              "HBox(children=(IntProgress(value=0, description='EP 30 validation', max=5, style=ProgressStyle(description_wid…"
            ]
          },
          "metadata": {
            "tags": []
          }
        },
        {
          "output_type": "stream",
          "text": [
            "\n",
            "0: 0  |  1: 0  |  2: 447\n",
            "average_accuracy:  24.832214765100673\n",
            "total_loss:  1.0986117839813232\n",
            "epoch number: 31\n"
          ],
          "name": "stdout"
        },
        {
          "output_type": "display_data",
          "data": {
            "application/vnd.jupyter.widget-view+json": {
              "model_id": "22be0feb94f64bbb89f983b4332aea29",
              "version_minor": 0,
              "version_major": 2
            },
            "text/plain": [
              "HBox(children=(IntProgress(value=0, description='EP 31 train', max=18, style=ProgressStyle(description_width='…"
            ]
          },
          "metadata": {
            "tags": []
          }
        },
        {
          "output_type": "stream",
          "text": [
            "\n",
            "0: 0  |  1: 0  |  2: 1798\n",
            "average_accuracy:  23.136818687430477\n",
            "total_loss:  1.09861159324646\n"
          ],
          "name": "stdout"
        },
        {
          "output_type": "display_data",
          "data": {
            "application/vnd.jupyter.widget-view+json": {
              "model_id": "00c1889bc8b84bbd83da14596c103850",
              "version_minor": 0,
              "version_major": 2
            },
            "text/plain": [
              "HBox(children=(IntProgress(value=0, description='EP 31 validation', max=5, style=ProgressStyle(description_wid…"
            ]
          },
          "metadata": {
            "tags": []
          }
        },
        {
          "output_type": "stream",
          "text": [
            "\n",
            "0: 0  |  1: 0  |  2: 447\n",
            "average_accuracy:  24.832214765100673\n",
            "total_loss:  1.0986117839813232\n",
            "epoch number: 32\n"
          ],
          "name": "stdout"
        },
        {
          "output_type": "display_data",
          "data": {
            "application/vnd.jupyter.widget-view+json": {
              "model_id": "acce9d3d84834cdea1454e0b2a9aadef",
              "version_minor": 0,
              "version_major": 2
            },
            "text/plain": [
              "HBox(children=(IntProgress(value=0, description='EP 32 train', max=18, style=ProgressStyle(description_width='…"
            ]
          },
          "metadata": {
            "tags": []
          }
        },
        {
          "output_type": "stream",
          "text": [
            "\n",
            "0: 0  |  1: 0  |  2: 1798\n",
            "average_accuracy:  23.136818687430477\n",
            "total_loss:  1.09861159324646\n"
          ],
          "name": "stdout"
        },
        {
          "output_type": "display_data",
          "data": {
            "application/vnd.jupyter.widget-view+json": {
              "model_id": "b368d921b709491d8f214d1ec9bb60b1",
              "version_minor": 0,
              "version_major": 2
            },
            "text/plain": [
              "HBox(children=(IntProgress(value=0, description='EP 32 validation', max=5, style=ProgressStyle(description_wid…"
            ]
          },
          "metadata": {
            "tags": []
          }
        },
        {
          "output_type": "stream",
          "text": [
            "\n",
            "0: 0  |  1: 0  |  2: 447\n",
            "average_accuracy:  24.832214765100673\n",
            "total_loss:  1.0986117839813232\n",
            "epoch number: 33\n"
          ],
          "name": "stdout"
        },
        {
          "output_type": "display_data",
          "data": {
            "application/vnd.jupyter.widget-view+json": {
              "model_id": "3ccd8644558145429cfe7c1be3e55007",
              "version_minor": 0,
              "version_major": 2
            },
            "text/plain": [
              "HBox(children=(IntProgress(value=0, description='EP 33 train', max=18, style=ProgressStyle(description_width='…"
            ]
          },
          "metadata": {
            "tags": []
          }
        },
        {
          "output_type": "error",
          "ename": "KeyboardInterrupt",
          "evalue": "ignored",
          "traceback": [
            "\u001b[0;31m---------------------------------------------------------------------------\u001b[0m",
            "\u001b[0;31mKeyboardInterrupt\u001b[0m                         Traceback (most recent call last)",
            "\u001b[0;32m<ipython-input-19-98cd2138b059>\u001b[0m in \u001b[0;36m<module>\u001b[0;34m()\u001b[0m\n\u001b[1;32m     11\u001b[0m \u001b[0margs\u001b[0m\u001b[0;34m.\u001b[0m\u001b[0mupdate\u001b[0m\u001b[0;34m(\u001b[0m\u001b[0mdefault_config\u001b[0m\u001b[0;34m)\u001b[0m\u001b[0;34m\u001b[0m\u001b[0;34m\u001b[0m\u001b[0m\n\u001b[1;32m     12\u001b[0m \u001b[0mprint_opts\u001b[0m\u001b[0;34m(\u001b[0m\u001b[0margs\u001b[0m\u001b[0;34m)\u001b[0m\u001b[0;34m\u001b[0m\u001b[0;34m\u001b[0m\u001b[0m\n\u001b[0;32m---> 13\u001b[0;31m \u001b[0mbaseline\u001b[0m\u001b[0;34m,\u001b[0m \u001b[0mtrainer\u001b[0m \u001b[0;34m=\u001b[0m \u001b[0mtrain\u001b[0m\u001b[0;34m(\u001b[0m\u001b[0margs\u001b[0m\u001b[0;34m)\u001b[0m\u001b[0;34m\u001b[0m\u001b[0;34m\u001b[0m\u001b[0m\n\u001b[0m",
            "\u001b[0;32m<ipython-input-18-7f001cdaa2fb>\u001b[0m in \u001b[0;36mtrain\u001b[0;34m(args)\u001b[0m\n\u001b[1;32m     42\u001b[0m     \u001b[0;32mfor\u001b[0m \u001b[0mepoch\u001b[0m \u001b[0;32min\u001b[0m \u001b[0mrange\u001b[0m\u001b[0;34m(\u001b[0m\u001b[0margs\u001b[0m\u001b[0;34m.\u001b[0m\u001b[0mepochs\u001b[0m\u001b[0;34m)\u001b[0m\u001b[0;34m:\u001b[0m\u001b[0;34m\u001b[0m\u001b[0;34m\u001b[0m\u001b[0m\n\u001b[1;32m     43\u001b[0m         \u001b[0mprint\u001b[0m \u001b[0;34m(\u001b[0m\u001b[0;34m\"epoch number: \"\u001b[0m \u001b[0;34m+\u001b[0m \u001b[0mstr\u001b[0m\u001b[0;34m(\u001b[0m\u001b[0mepoch\u001b[0m\u001b[0;34m)\u001b[0m\u001b[0;34m)\u001b[0m\u001b[0;34m\u001b[0m\u001b[0;34m\u001b[0m\u001b[0m\n\u001b[0;32m---> 44\u001b[0;31m         \u001b[0mtrainer\u001b[0m\u001b[0;34m.\u001b[0m\u001b[0mtrain\u001b[0m\u001b[0;34m(\u001b[0m\u001b[0mepoch\u001b[0m\u001b[0;34m)\u001b[0m\u001b[0;34m\u001b[0m\u001b[0;34m\u001b[0m\u001b[0m\n\u001b[0m\u001b[1;32m     45\u001b[0m         \u001b[0mtrainer\u001b[0m\u001b[0;34m.\u001b[0m\u001b[0msave\u001b[0m\u001b[0;34m(\u001b[0m\u001b[0mepoch\u001b[0m\u001b[0;34m,\u001b[0m \u001b[0margs\u001b[0m\u001b[0;34m.\u001b[0m\u001b[0moutput_path\u001b[0m\u001b[0;34m)\u001b[0m\u001b[0;34m\u001b[0m\u001b[0;34m\u001b[0m\u001b[0m\n\u001b[1;32m     46\u001b[0m \u001b[0;34m\u001b[0m\u001b[0m\n",
            "\u001b[0;32m<ipython-input-17-fa3ebbff4fcc>\u001b[0m in \u001b[0;36mtrain\u001b[0;34m(self, epoch)\u001b[0m\n\u001b[1;32m     23\u001b[0m \u001b[0;34m\u001b[0m\u001b[0m\n\u001b[1;32m     24\u001b[0m     \u001b[0;32mdef\u001b[0m \u001b[0mtrain\u001b[0m\u001b[0;34m(\u001b[0m\u001b[0mself\u001b[0m\u001b[0;34m,\u001b[0m \u001b[0mepoch\u001b[0m\u001b[0;34m)\u001b[0m\u001b[0;34m:\u001b[0m\u001b[0;34m\u001b[0m\u001b[0;34m\u001b[0m\u001b[0m\n\u001b[0;32m---> 25\u001b[0;31m         \u001b[0mself\u001b[0m\u001b[0;34m.\u001b[0m\u001b[0miteration\u001b[0m\u001b[0;34m(\u001b[0m\u001b[0mepoch\u001b[0m\u001b[0;34m,\u001b[0m \u001b[0mself\u001b[0m\u001b[0;34m.\u001b[0m\u001b[0mtrain_data\u001b[0m\u001b[0;34m)\u001b[0m\u001b[0;34m\u001b[0m\u001b[0;34m\u001b[0m\u001b[0m\n\u001b[0m\u001b[1;32m     26\u001b[0m \u001b[0;34m\u001b[0m\u001b[0m\n\u001b[1;32m     27\u001b[0m     \u001b[0;32mdef\u001b[0m \u001b[0mtest\u001b[0m\u001b[0;34m(\u001b[0m\u001b[0mself\u001b[0m\u001b[0;34m,\u001b[0m \u001b[0mepoch\u001b[0m\u001b[0;34m)\u001b[0m\u001b[0;34m:\u001b[0m\u001b[0;34m\u001b[0m\u001b[0;34m\u001b[0m\u001b[0m\n",
            "\u001b[0;32m<ipython-input-17-fa3ebbff4fcc>\u001b[0m in \u001b[0;36miteration\u001b[0;34m(self, epoch, data_loader, train)\u001b[0m\n\u001b[1;32m     47\u001b[0m         \u001b[0;32mfor\u001b[0m \u001b[0mi\u001b[0m\u001b[0;34m,\u001b[0m \u001b[0mdata\u001b[0m \u001b[0;32min\u001b[0m \u001b[0mdata_iterator\u001b[0m\u001b[0;34m:\u001b[0m\u001b[0;34m\u001b[0m\u001b[0;34m\u001b[0m\u001b[0m\n\u001b[1;32m     48\u001b[0m             \u001b[0mdata\u001b[0m \u001b[0;34m=\u001b[0m \u001b[0;34m{\u001b[0m\u001b[0mkey\u001b[0m\u001b[0;34m:\u001b[0m \u001b[0mvalue\u001b[0m\u001b[0;34m.\u001b[0m\u001b[0mto\u001b[0m\u001b[0;34m(\u001b[0m\u001b[0mself\u001b[0m\u001b[0;34m.\u001b[0m\u001b[0mdevice\u001b[0m\u001b[0;34m)\u001b[0m \u001b[0;32mfor\u001b[0m \u001b[0mkey\u001b[0m\u001b[0;34m,\u001b[0m \u001b[0mvalue\u001b[0m \u001b[0;32min\u001b[0m \u001b[0mdata\u001b[0m\u001b[0;34m.\u001b[0m\u001b[0mitems\u001b[0m\u001b[0;34m(\u001b[0m\u001b[0;34m)\u001b[0m\u001b[0;34m}\u001b[0m\u001b[0;34m\u001b[0m\u001b[0;34m\u001b[0m\u001b[0m\n\u001b[0;32m---> 49\u001b[0;31m             \u001b[0moutput\u001b[0m \u001b[0;34m=\u001b[0m \u001b[0mself\u001b[0m\u001b[0;34m.\u001b[0m\u001b[0mmodel\u001b[0m\u001b[0;34m.\u001b[0m\u001b[0mforward\u001b[0m\u001b[0;34m(\u001b[0m\u001b[0mdata\u001b[0m\u001b[0;34m[\u001b[0m\u001b[0;34m'baseline_input'\u001b[0m\u001b[0;34m]\u001b[0m\u001b[0;34m)\u001b[0m\u001b[0;34m\u001b[0m\u001b[0;34m\u001b[0m\u001b[0m\n\u001b[0m\u001b[1;32m     50\u001b[0m             \u001b[0mhit\u001b[0m \u001b[0;34m=\u001b[0m \u001b[0moutput\u001b[0m\u001b[0;34m.\u001b[0m\u001b[0margmax\u001b[0m\u001b[0;34m(\u001b[0m\u001b[0mdim\u001b[0m\u001b[0;34m=\u001b[0m\u001b[0;34m-\u001b[0m\u001b[0;36m1\u001b[0m\u001b[0;34m)\u001b[0m\u001b[0;34m.\u001b[0m\u001b[0meq\u001b[0m\u001b[0;34m(\u001b[0m\u001b[0mdata\u001b[0m\u001b[0;34m[\u001b[0m\u001b[0;34m\"target\"\u001b[0m\u001b[0;34m]\u001b[0m\u001b[0;34m)\u001b[0m\u001b[0;34m.\u001b[0m\u001b[0msum\u001b[0m\u001b[0;34m(\u001b[0m\u001b[0;34m)\u001b[0m\u001b[0;34m.\u001b[0m\u001b[0mitem\u001b[0m\u001b[0;34m(\u001b[0m\u001b[0;34m)\u001b[0m\u001b[0;34m\u001b[0m\u001b[0;34m\u001b[0m\u001b[0m\n\u001b[1;32m     51\u001b[0m             \u001b[0mmiss\u001b[0m \u001b[0;34m=\u001b[0m \u001b[0mdata\u001b[0m\u001b[0;34m[\u001b[0m\u001b[0;34m\"target\"\u001b[0m\u001b[0;34m]\u001b[0m\u001b[0;34m.\u001b[0m\u001b[0mnelement\u001b[0m\u001b[0;34m(\u001b[0m\u001b[0;34m)\u001b[0m \u001b[0;34m-\u001b[0m \u001b[0mhit\u001b[0m\u001b[0;34m\u001b[0m\u001b[0;34m\u001b[0m\u001b[0m\n",
            "\u001b[0;32m<ipython-input-16-ed3749a282bb>\u001b[0m in \u001b[0;36mforward\u001b[0;34m(self, x)\u001b[0m\n\u001b[1;32m     13\u001b[0m           \u001b[0;32mfor\u001b[0m \u001b[0mj\u001b[0m \u001b[0;32min\u001b[0m \u001b[0mrange\u001b[0m\u001b[0;34m(\u001b[0m\u001b[0;36m11\u001b[0m\u001b[0;34m)\u001b[0m\u001b[0;34m:\u001b[0m\u001b[0;34m\u001b[0m\u001b[0;34m\u001b[0m\u001b[0m\n\u001b[1;32m     14\u001b[0m             \u001b[0;32mfor\u001b[0m \u001b[0mk\u001b[0m \u001b[0;32min\u001b[0m \u001b[0mrange\u001b[0m\u001b[0;34m(\u001b[0m\u001b[0;36m27\u001b[0m\u001b[0;34m)\u001b[0m\u001b[0;34m:\u001b[0m\u001b[0;34m\u001b[0m\u001b[0;34m\u001b[0m\u001b[0m\n\u001b[0;32m---> 15\u001b[0;31m               \u001b[0mhome_team\u001b[0m\u001b[0;34m[\u001b[0m\u001b[0mi\u001b[0m\u001b[0;34m,\u001b[0m\u001b[0mj\u001b[0m\u001b[0;34m,\u001b[0m\u001b[0mk\u001b[0m\u001b[0;34m]\u001b[0m \u001b[0;34m=\u001b[0m \u001b[0mx1\u001b[0m\u001b[0;34m[\u001b[0m\u001b[0mi\u001b[0m\u001b[0;34m,\u001b[0m \u001b[0mj\u001b[0m \u001b[0;34m*\u001b[0m \u001b[0mk\u001b[0m \u001b[0;34m+\u001b[0m \u001b[0mk\u001b[0m\u001b[0;34m]\u001b[0m\u001b[0;34m\u001b[0m\u001b[0;34m\u001b[0m\u001b[0m\n\u001b[0m\u001b[1;32m     16\u001b[0m               \u001b[0maway_team\u001b[0m\u001b[0;34m[\u001b[0m\u001b[0mi\u001b[0m\u001b[0;34m,\u001b[0m\u001b[0mj\u001b[0m\u001b[0;34m,\u001b[0m\u001b[0mk\u001b[0m\u001b[0;34m]\u001b[0m \u001b[0;34m=\u001b[0m \u001b[0mx2\u001b[0m\u001b[0;34m[\u001b[0m\u001b[0mi\u001b[0m\u001b[0;34m,\u001b[0m \u001b[0mj\u001b[0m \u001b[0;34m*\u001b[0m \u001b[0mk\u001b[0m \u001b[0;34m+\u001b[0m \u001b[0mk\u001b[0m\u001b[0;34m]\u001b[0m\u001b[0;34m\u001b[0m\u001b[0;34m\u001b[0m\u001b[0m\n\u001b[1;32m     17\u001b[0m         \u001b[0;31m# size of new_x is batch_size * 27 * 27\u001b[0m\u001b[0;34m\u001b[0m\u001b[0;34m\u001b[0m\u001b[0;34m\u001b[0m\u001b[0m\n",
            "\u001b[0;31mKeyboardInterrupt\u001b[0m: "
          ]
        }
      ]
    }
  ]
}